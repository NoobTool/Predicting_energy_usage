{
 "cells": [
  {
   "cell_type": "markdown",
   "id": "2bca8b7d",
   "metadata": {},
   "source": [
    "#### The aim of this project is to predict the energy use of lights and appliances in a low-energy building using the UCI data set collected in 2017. This dataset is provided to us by tutoring team of Computational Machine Learning, Master of AI at RMIT University."
   ]
  },
  {
   "cell_type": "code",
   "execution_count": 2,
   "id": "49a298c2",
   "metadata": {},
   "outputs": [],
   "source": [
    "# Importing the necessary libraries\n",
    "\n",
    "import pandas as pd\n",
    "import numpy as np\n",
    "import matplotlib.pyplot as plt"
   ]
  },
  {
   "cell_type": "markdown",
   "id": "24ad33a7",
   "metadata": {},
   "source": [
    "### Retrieving the dataset"
   ]
  },
  {
   "cell_type": "code",
   "execution_count": 5,
   "id": "319de86d",
   "metadata": {},
   "outputs": [],
   "source": [
    "\"\"\" As per the scope of this of this project, the provided dataset is enough and we do not require any other\n",
    "    to conduct and express our analysis of this problem. \"\"\"\n",
    "\n",
    "df = pd.read_csv('UCI_data.csv')"
   ]
  },
  {
   "cell_type": "code",
   "execution_count": null,
   "id": "0780d961",
   "metadata": {},
   "outputs": [],
   "source": []
  },
  {
   "cell_type": "code",
   "execution_count": null,
   "id": "f9e2aff6",
   "metadata": {},
   "outputs": [],
   "source": []
  }
 ],
 "metadata": {
  "kernelspec": {
   "display_name": "Python 3 (ipykernel)",
   "language": "python",
   "name": "python3"
  },
  "language_info": {
   "codemirror_mode": {
    "name": "ipython",
    "version": 3
   },
   "file_extension": ".py",
   "mimetype": "text/x-python",
   "name": "python",
   "nbconvert_exporter": "python",
   "pygments_lexer": "ipython3",
   "version": "3.9.7"
  }
 },
 "nbformat": 4,
 "nbformat_minor": 5
}
